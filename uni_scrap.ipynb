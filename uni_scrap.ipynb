{
  "nbformat": 4,
  "nbformat_minor": 0,
  "metadata": {
    "colab": {
      "provenance": [],
      "authorship_tag": "ABX9TyMNWxgwdgnu0ExiRLd8ahLv",
      "include_colab_link": true
    },
    "kernelspec": {
      "name": "python3",
      "display_name": "Python 3"
    },
    "language_info": {
      "name": "python"
    }
  },
  "cells": [
    {
      "cell_type": "markdown",
      "metadata": {
        "id": "view-in-github",
        "colab_type": "text"
      },
      "source": [
        "<a href=\"https://colab.research.google.com/github/sxyang1206/IBM-University/blob/main/uni_scrap.ipynb\" target=\"_parent\"><img src=\"https://colab.research.google.com/assets/colab-badge.svg\" alt=\"Open In Colab\"/></a>"
      ]
    },
    {
      "cell_type": "code",
      "execution_count": null,
      "metadata": {
        "colab": {
          "base_uri": "https://localhost:8080/"
        },
        "id": "b0wxJm8lKWmG",
        "outputId": "02d1dae4-11db-40aa-d731-1fada22e2a26"
      },
      "outputs": [
        {
          "output_type": "stream",
          "name": "stdout",
          "text": [
            "Drive already mounted at /content/drive; to attempt to forcibly remount, call drive.mount(\"/content/drive\", force_remount=True).\n"
          ]
        }
      ],
      "source": [
        "from google.colab import drive\n",
        "drive.mount('/content/drive')"
      ]
    },
    {
      "cell_type": "code",
      "source": [
        "import os\n",
        "os.chdir('/content/drive/MyDrive/Colab Notebooks/')\n",
        "os.getcwd()"
      ],
      "metadata": {
        "colab": {
          "base_uri": "https://localhost:8080/",
          "height": 35
        },
        "id": "uQainZz_KYhI",
        "outputId": "f7e33855-3f4a-407f-b14b-24f96a25110c"
      },
      "execution_count": null,
      "outputs": [
        {
          "output_type": "execute_result",
          "data": {
            "text/plain": [
              "'/content/drive/MyDrive/Colab Notebooks'"
            ],
            "application/vnd.google.colaboratory.intrinsic+json": {
              "type": "string"
            }
          },
          "metadata": {},
          "execution_count": 2
        }
      ]
    },
    {
      "cell_type": "code",
      "source": [
        "!pip install selenium\n",
        "!apt-get update\n",
        "!apt install chromium-chromedriver\n",
        "!cp /usr/lib/chromium-browser/chromedriver /usr/bin"
      ],
      "metadata": {
        "colab": {
          "base_uri": "https://localhost:8080/"
        },
        "id": "T9yx78WHKgJs",
        "outputId": "3f578b18-d5a0-41f7-c2b4-5046f041d486"
      },
      "execution_count": null,
      "outputs": [
        {
          "output_type": "stream",
          "name": "stdout",
          "text": [
            "Requirement already satisfied: selenium in /usr/local/lib/python3.10/dist-packages (4.18.1)\n",
            "Requirement already satisfied: urllib3[socks]<3,>=1.26 in /usr/local/lib/python3.10/dist-packages (from selenium) (2.0.7)\n",
            "Requirement already satisfied: trio~=0.17 in /usr/local/lib/python3.10/dist-packages (from selenium) (0.24.0)\n",
            "Requirement already satisfied: trio-websocket~=0.9 in /usr/local/lib/python3.10/dist-packages (from selenium) (0.11.1)\n",
            "Requirement already satisfied: certifi>=2021.10.8 in /usr/local/lib/python3.10/dist-packages (from selenium) (2024.2.2)\n",
            "Requirement already satisfied: typing_extensions>=4.9.0 in /usr/local/lib/python3.10/dist-packages (from selenium) (4.10.0)\n",
            "Requirement already satisfied: attrs>=20.1.0 in /usr/local/lib/python3.10/dist-packages (from trio~=0.17->selenium) (23.2.0)\n",
            "Requirement already satisfied: sortedcontainers in /usr/local/lib/python3.10/dist-packages (from trio~=0.17->selenium) (2.4.0)\n",
            "Requirement already satisfied: idna in /usr/local/lib/python3.10/dist-packages (from trio~=0.17->selenium) (3.6)\n",
            "Requirement already satisfied: outcome in /usr/local/lib/python3.10/dist-packages (from trio~=0.17->selenium) (1.3.0.post0)\n",
            "Requirement already satisfied: sniffio>=1.3.0 in /usr/local/lib/python3.10/dist-packages (from trio~=0.17->selenium) (1.3.1)\n",
            "Requirement already satisfied: exceptiongroup in /usr/local/lib/python3.10/dist-packages (from trio~=0.17->selenium) (1.2.0)\n",
            "Requirement already satisfied: wsproto>=0.14 in /usr/local/lib/python3.10/dist-packages (from trio-websocket~=0.9->selenium) (1.2.0)\n",
            "Requirement already satisfied: pysocks!=1.5.7,<2.0,>=1.5.6 in /usr/local/lib/python3.10/dist-packages (from urllib3[socks]<3,>=1.26->selenium) (1.7.1)\n",
            "Requirement already satisfied: h11<1,>=0.9.0 in /usr/local/lib/python3.10/dist-packages (from wsproto>=0.14->trio-websocket~=0.9->selenium) (0.14.0)\n",
            "Hit:1 http://archive.ubuntu.com/ubuntu jammy InRelease\n",
            "Get:2 http://security.ubuntu.com/ubuntu jammy-security InRelease [110 kB]\n",
            "Get:3 http://archive.ubuntu.com/ubuntu jammy-updates InRelease [119 kB]\n",
            "Hit:4 https://cloud.r-project.org/bin/linux/ubuntu jammy-cran40/ InRelease\n",
            "Hit:5 http://archive.ubuntu.com/ubuntu jammy-backports InRelease\n",
            "Hit:6 https://developer.download.nvidia.com/compute/cuda/repos/ubuntu2204/x86_64  InRelease\n",
            "Hit:7 https://ppa.launchpadcontent.net/c2d4u.team/c2d4u4.0+/ubuntu jammy InRelease\n",
            "Hit:8 https://ppa.launchpadcontent.net/deadsnakes/ppa/ubuntu jammy InRelease\n",
            "Hit:9 https://ppa.launchpadcontent.net/graphics-drivers/ppa/ubuntu jammy InRelease\n",
            "Hit:10 https://ppa.launchpadcontent.net/ubuntugis/ppa/ubuntu jammy InRelease\n",
            "Fetched 229 kB in 1s (167 kB/s)\n",
            "Reading package lists... Done\n",
            "Reading package lists... Done\n",
            "Building dependency tree... Done\n",
            "Reading state information... Done\n",
            "chromium-chromedriver is already the newest version (1:85.0.4183.83-0ubuntu2.22.04.1).\n",
            "0 upgraded, 0 newly installed, 0 to remove and 39 not upgraded.\n",
            "cp: '/usr/lib/chromium-browser/chromedriver' and '/usr/bin/chromedriver' are the same file\n"
          ]
        }
      ]
    },
    {
      "cell_type": "code",
      "source": [
        "import os\n",
        "import time\n",
        "\n",
        "import pandas as pd\n",
        "\n",
        "import urllib\n",
        "import requests\n",
        "from bs4 import BeautifulSoup\n",
        "\n",
        "from selenium import webdriver\n",
        "from selenium.webdriver.common.by import By\n"
      ],
      "metadata": {
        "id": "E97rmtjzKjI0"
      },
      "execution_count": null,
      "outputs": []
    },
    {
      "cell_type": "code",
      "source": [
        "def southampton(url):\n",
        "    r = requests.get(url)\n",
        "    soup = BeautifulSoup(r.text)\n",
        "\n",
        "    program_name = soup.find('div',{'class': 'block text-black pt-4 pb-10 md:py-4'}).h1.get_text()\n",
        "    print(program_name)\n",
        "\n",
        "    module_list = []\n",
        "    module_card = soup.find_all('div',{'class': 'module-cards'})\n",
        "    for i in module_card:\n",
        "        course_list = i.find_all('h3',{'class': 'card-title font-bold text-xl text-endeavour'})\n",
        "        module_list.extend(course_list)\n",
        "    module_list = [x.get_text() for x in module_list]\n",
        "    return program_name, module_list"
      ],
      "metadata": {
        "id": "VyJBBmPtwlCk"
      },
      "execution_count": null,
      "outputs": []
    },
    {
      "cell_type": "code",
      "source": [
        "def ucl(url):\n",
        "    r = requests.get(url)\n",
        "    soup = BeautifulSoup(r.text)\n",
        "    try:\n",
        "      program_name = soup.find('div',{'class': 'node node-undergraduate-programme-page'}).h1.get_text()\n",
        "    except:\n",
        "      program_name = soup.find('div',{'class': 'node node-graduate-taught-programme-page'}).h1.get_text()\n",
        "\n",
        "    print(program_name)\n",
        "\n",
        "    module_list = []\n",
        "    module_card_m = soup.find_all('div',{'class': 'prog-modules-mandatory'})\n",
        "    module_card_o = soup.find_all('div',{'class': 'prog-modules-optional'})\n",
        "    for i in module_card_m:\n",
        "        course_list = i.find_all('a')\n",
        "        module_list.extend(course_list)\n",
        "    for i in module_card_o:\n",
        "        course_list = i.find_all('a')\n",
        "        module_list.extend(course_list)\n",
        "    module_list = [x.get_text() for x in module_list]\n",
        "    return program_name, module_list"
      ],
      "metadata": {
        "id": "S2KySSpFol9v"
      },
      "execution_count": null,
      "outputs": []
    },
    {
      "cell_type": "code",
      "source": [
        "def warwick(url):\n",
        "  chrome_options = webdriver.ChromeOptions()\n",
        "  chrome_options.add_argument('--headless')\n",
        "  chrome_options.add_argument('--no-sandbox')\n",
        "  chrome_options.add_argument('--disable-dev-shm-usage')\n",
        "  driver = webdriver.Chrome(options=chrome_options)\n",
        "  driver.get(url)\n",
        "  time.sleep(1)\n",
        "  soup = BeautifulSoup(driver.page_source)\n",
        "  driver.close()\n",
        "  program_name = soup.find('div',{'class': 'id7-page-title'}).h1.get_text().strip()\n",
        "  print(program_name)\n",
        "\n",
        "  module_list = []\n",
        "  module_card_pre = soup.find('div',{'id': 'course-tab-3-collapse'})\n",
        "  module_card = module_card_pre.find_all('ul')\n",
        "  for i in module_card:\n",
        "      course_list = i.find_all('li')\n",
        "      module_list.extend(course_list)\n",
        "  module_list = [x.get_text() for x in module_list]\n",
        "  return program_name, module_list"
      ],
      "metadata": {
        "id": "LTP9yQQkLmON"
      },
      "execution_count": null,
      "outputs": []
    },
    {
      "cell_type": "code",
      "source": [
        "from logging import exception\n",
        "def york(url):\n",
        "    r = requests.get(url)\n",
        "    soup = BeautifulSoup(r.text)\n",
        "    try:\n",
        "        program_name = soup.find('div',{'class': 'c-figure__content c-figure__content--left c-figure__content--half'}).h1.get_text()\n",
        "    except:\n",
        "        program_name = soup.find('div',{'class': 'node node-undergraduate-programme-page'}).h1.get_text()\n",
        "\n",
        "    print(program_name)\n",
        "\n",
        "    module_list = []\n",
        "    try:\n",
        "        module_card_pre = soup.find('div',{'id': 'content_modules'})\n",
        "        module_card = module_card_pre.find_all('ul',recursive=False)\n",
        "        for i in module_card:\n",
        "            course_list = i.find_all('li')\n",
        "            module_list.extend(course_list)\n",
        "    except:\n",
        "        module_card_pre = soup.find_all('div',{'class': 'c-tabs__content'})\n",
        "        for i in module_card_pre:\n",
        "            module_card = i.find_all('ul',recursive=False)\n",
        "            for j in module_card:\n",
        "                course_list = j.find_all('li')\n",
        "                module_list.extend(course_list)\n",
        "    def find_module_name_york(sp):\n",
        "        try:\n",
        "            name = sp.a.strong.get_text()\n",
        "        except:\n",
        "            try:\n",
        "                name = sp.strong.a.get_text()\n",
        "            except:\n",
        "                name = sp.strong.get_text()\n",
        "        return name\n",
        "    module_list = [find_module_name_york(x) for x in module_list]\n",
        "    return program_name, module_list"
      ],
      "metadata": {
        "id": "meSKfV2NuO_K"
      },
      "execution_count": null,
      "outputs": []
    },
    {
      "cell_type": "code",
      "source": [
        "york('https://www.york.ac.uk/study/undergraduate/courses/bsc-data-science/')"
      ],
      "metadata": {
        "colab": {
          "base_uri": "https://localhost:8080/"
        },
        "id": "GqXMZKQabPki",
        "outputId": "295df68a-44e3-4476-8fed-d6ad875b7932"
      },
      "execution_count": null,
      "outputs": [
        {
          "output_type": "stream",
          "name": "stdout",
          "text": [
            "BSc (Hons) Data Science\n"
          ]
        },
        {
          "output_type": "execute_result",
          "data": {
            "text/plain": [
              "('BSc (Hons) Data Science',\n",
              " ['Software 1: Foundations of Programming for Computer Science',\n",
              "  'Introduction to Probability and Statistics',\n",
              "  'Foundations and Calculus',\n",
              "  'Software 2: Object Oriented Data Structures and Algorithms',\n",
              "  'DATA: Introduction to Data Science',\n",
              "  'Multivariable Calculus and Matrices',\n",
              "  'Systems and Devices 2: Operating Systems, Security, and Networking',\n",
              "  'Engineering 1: Software and Systems Engineering',\n",
              "  'Probability and Markov Chains',\n",
              "  'Intelligent Systems: Machine Learning and Optimisation',\n",
              "  'Linear Algebra',\n",
              "  'Statistical Inference and Linear Models',\n",
              "  'Computer Science project',\n",
              "  'Governance in Data Science',\n",
              "  'Cloud-Based Data Analysis',\n",
              "  'Computer Vision and Graphics',\n",
              "  'Qualitative Approaches to Investigating UX',\n",
              "  'Autonomous Robotic Systems Engineering',\n",
              "  'Engineering 2: Automated Software Engineering',\n",
              "  'Interaction Design and Evaluation',\n",
              "  'Statistical Pattern Recognition',\n",
              "  'Generalised Linear Models',\n",
              "  'Decision Theory and Bayesian Statistics',\n",
              "  'Mathematical Finance in Discrete Time',\n",
              "  'Intelligent Systems: Probabilistic and Deep Learning',\n",
              "  'AI Problem Solving with Search and Logic',\n",
              "  'Quantum Computation',\n",
              "  'Operations Research',\n",
              "  'Numerical Analysis',\n",
              "  'Multivariate Data Analysis',\n",
              "  'Time Series',\n",
              "  'Mathematical Finance in Continuous Time',\n",
              "  'Cryptography Theory and Practice'])"
            ]
          },
          "metadata": {},
          "execution_count": 9
        }
      ]
    },
    {
      "cell_type": "code",
      "source": [
        "def liverpool(url):\n",
        "    r = requests.get(url)\n",
        "    soup = BeautifulSoup(r.text)\n",
        "    fl = soup.select('#top > div.faculty-level-container > div')[0].header.h1\n",
        "    # fl = soup.find('div',{'class': 'faculty-level-inner'}).header.h1\n",
        "    program_name = fl.span.get_text() + fl.button.get_text()\n",
        "    print(program_name)\n",
        "\n",
        "    module_list = []\n",
        "    module_card = soup.find_all('div',{'class': 'compulsory modules-list'})\n",
        "    for i in module_card:\n",
        "        course_list = i.find_all('summary')\n",
        "        module_list.extend(course_list)\n",
        "    module_list = [x.get_text() for x in module_list]\n",
        "    return program_name, module_list"
      ],
      "metadata": {
        "id": "AhhIsxIv_Z4M"
      },
      "execution_count": null,
      "outputs": []
    },
    {
      "cell_type": "code",
      "source": [
        "def lse(url):\n",
        "    # chrome_options = webdriver.ChromeOptions()\n",
        "    # chrome_options.add_argument('--headless')\n",
        "    # chrome_options.add_argument('--no-sandbox')\n",
        "    # chrome_options.add_argument('--disable-dev-shm-usage')\n",
        "    # driver = webdriver.Chrome(options=chrome_options)\n",
        "    # driver.get(url)\n",
        "    # time.sleep(1)\n",
        "    # soup = BeautifulSoup(driver.page_source)\n",
        "    # driver.close()\n",
        "    r = requests.get(url)\n",
        "    soup = BeautifulSoup(r.text)\n",
        "    program_name = soup.find('h1',{'class': 'pageTitle'}).get_text()\n",
        "    print(program_name)\n",
        "\n",
        "    module_list = soup.find_all('a', href=lambda x: x and x.startswith(\"https://www.lse.ac.uk/resources/calendar/courseGuides\"))\n",
        "    module_list.extend(soup.find_all('a', href=lambda x: x and x.startswith(\"http://www.lse.ac.uk/resources/calendar/courseGuides\")))\n",
        "    def find_module_name_lse(sp):\n",
        "        try:\n",
        "            name = sp.strong.get_text()\n",
        "        except:\n",
        "            name = sp.get_text()\n",
        "        return name\n",
        "\n",
        "    module_list = [find_module_name_lse(x) for x in module_list]\n",
        "    module_list = [module for module in module_list if module != 'course guide']\n",
        "\n",
        "    return program_name, module_list"
      ],
      "metadata": {
        "id": "TI5BBA9ZuEor"
      },
      "execution_count": null,
      "outputs": []
    },
    {
      "cell_type": "code",
      "source": [
        "def manchester(url):\n",
        "    url_new = url + 'all-content/#course-profile'\n",
        "\n",
        "    r = requests.get(url_new)\n",
        "    soup = BeautifulSoup(r.text)\n",
        "\n",
        "    program_name = soup.find('div',{'class': 'heading'}).h1.get_text()\n",
        "    print(program_name)\n",
        "\n",
        "    module_list = []\n",
        "    module_card = soup.find_all('table',{'class': 'course-units'})\n",
        "    for i in module_card:\n",
        "        course_list = i.tbody.find_all('a')\n",
        "        module_list.extend(course_list)\n",
        "    module_list = [x.get_text() for x in module_list]\n",
        "    return program_name, module_list"
      ],
      "metadata": {
        "id": "MhGCDVeQ6ksU"
      },
      "execution_count": null,
      "outputs": []
    },
    {
      "cell_type": "code",
      "source": [
        "def newcastle(url):\n",
        "    r = requests.get(url)\n",
        "    soup = BeautifulSoup(r.text)\n",
        "\n",
        "    program_name = soup.find('div',{'class': 'nameClass'}).h1.get_text()\n",
        "    print(program_name)\n",
        "\n",
        "    module_list = []\n",
        "    try:\n",
        "        module_card = soup.find_all('section',{'class': 'modules'})\n",
        "        for i in module_card:\n",
        "            module_card_sub = i.find_all('table')\n",
        "            for j in module_card_sub:\n",
        "                course_list = j.tbody.find_all('tr')\n",
        "                module_list.extend(course_list[1:])\n",
        "    except:\n",
        "        module_card = soup.find_all('div',{'class': 'responsiveTable0','id':'responsiveTable0'})\n",
        "        for i in module_card:\n",
        "            module_card_sub = i.find_all('table')\n",
        "            for j in module_card_sub:\n",
        "                course_list = j.tbody.find_all('tr')\n",
        "                module_list.extend(course_list)\n",
        "    module_list = [x.td.a.get_text() for x in module_list]\n",
        "    return program_name, module_list"
      ],
      "metadata": {
        "id": "Lxh5j0kl97vs"
      },
      "execution_count": null,
      "outputs": []
    },
    {
      "cell_type": "code",
      "source": [
        "newcastle('https://search.ncl.ac.uk/s/redirect?collection=neu-web-courses&url=https%3A%2F%2Fwww.ncl.ac.uk%2Fpostgraduate%2Fdegrees%2F5124f%2F&auth=n9J0qyFR9nrI3JcdzaNH4w&profile=_default&rank=211&query=%7CstencilsCourseType%3Apostgraduate')"
      ],
      "metadata": {
        "colab": {
          "base_uri": "https://localhost:8080/"
        },
        "id": "SRNty9sHyZp0",
        "outputId": "3678dee0-334c-46f6-e6e8-4b4ae3f3b934"
      },
      "execution_count": null,
      "outputs": [
        {
          "output_type": "stream",
          "name": "stdout",
          "text": [
            "Digital Business MSc\n",
            "[]\n"
          ]
        },
        {
          "output_type": "execute_result",
          "data": {
            "text/plain": [
              "('Digital Business MSc', [])"
            ]
          },
          "metadata": {},
          "execution_count": 51
        }
      ]
    },
    {
      "cell_type": "code",
      "source": [
        "def birmingham(url):\n",
        "    r = requests.get(url)\n",
        "    soup = BeautifulSoup(r.text)\n",
        "\n",
        "    program_name = soup.find('div',{'class': 'hero__inner'}).h1.get_text().strip()\n",
        "    print(program_name)\n",
        "\n",
        "    module_list = []\n",
        "    module_card_pre = soup.find('div',{'id': 'Modules_content'})\n",
        "    module_card = module_card_pre.find_all('ul')\n",
        "    for i in module_card:\n",
        "        course_list = i.find_all('li')\n",
        "        module_list.extend(course_list)\n",
        "    def find_module_name_birmingham(sp):\n",
        "      try:\n",
        "        module_name = sp.a.get_text()\n",
        "      except:\n",
        "        module_name = sp.get_text()[:-12]\n",
        "      return module_name\n",
        "    module_list = [find_module_name_birmingham(x) for x in module_list]\n",
        "    return program_name, module_list"
      ],
      "metadata": {
        "id": "2qjDjJJ1CXwU"
      },
      "execution_count": null,
      "outputs": []
    },
    {
      "cell_type": "code",
      "source": [
        "def bristol(url):\n",
        "\n",
        "    chrome_options = webdriver.ChromeOptions()\n",
        "    chrome_options.add_argument('--headless')\n",
        "    chrome_options.add_argument('--no-sandbox')\n",
        "    chrome_options.add_argument('--disable-dev-shm-usage')\n",
        "    driver = webdriver.Chrome(options=chrome_options)\n",
        "    driver.get(url)\n",
        "    course_url = driver.find_element(By.XPATH,\"//a[starts-with(@href, 'https://www.bris.ac.uk/unit-programme-catalogue/')]\").get_attribute('href')\n",
        "    program_name = driver.find_element(By.CLASS_NAME,'hero__text').find_element(By.TAG_NAME, 'h1').text\n",
        "    print(program_name)\n",
        "    driver.close()\n",
        "\n",
        "    try:\n",
        "      course_url = course_url.replace(\"byCohort=2\", \"ayrCode=2\")\n",
        "    except:\n",
        "      course_url = course_url\n",
        "    r = requests.get(course_url)\n",
        "    soup = BeautifulSoup(r.text)\n",
        "    year_pre = soup.select_one('#uobcms-content > div > div > div.column.grid_8 > ul')\n",
        "    year_list = year_pre.find_all('li')\n",
        "    module_list = []\n",
        "    module_card = soup.find_all('table',{'class': 'table-basic'})\n",
        "    for i in module_card:\n",
        "        course_list = i.find_all('a')\n",
        "        module_list.extend(course_list)\n",
        "\n",
        "    if len(year_list) > 1:\n",
        "      for i in year_list[1:]:\n",
        "        url_sub = 'https://www.bris.ac.uk' + i.a.attrs['href']\n",
        "        r = requests.get(url_sub)\n",
        "        soup = BeautifulSoup(r.text)\n",
        "        module_card = soup.find_all('table',{'class': 'table-basic'})\n",
        "        for j in module_card:\n",
        "            course_list = j.find_all('a')\n",
        "            module_list.extend(course_list)\n",
        "    module_list = [x.get_text() for x in module_list]\n",
        "    return program_name,module_list\n"
      ],
      "metadata": {
        "id": "akUbsqGwIJCo"
      },
      "execution_count": null,
      "outputs": []
    },
    {
      "cell_type": "code",
      "source": [
        "def cardiff(url):\n",
        "    r = requests.get(url)\n",
        "    soup = BeautifulSoup(r.text)\n",
        "\n",
        "    program_name = soup.find('h1',{'id': 'page-title'}).get_text()\n",
        "    print(program_name)\n",
        "\n",
        "    module_list = soup.find_all('a',{'class': 'module-information ga-event'})\n",
        "    module_list = [x.get_text() for x in module_list]\n",
        "    return program_name, module_list"
      ],
      "metadata": {
        "id": "sLq8WM37xA4s"
      },
      "execution_count": null,
      "outputs": []
    },
    {
      "cell_type": "code",
      "source": [
        "def nottingham(url):\n",
        "    r = requests.get(url)\n",
        "    soup = BeautifulSoup(r.text)\n",
        "\n",
        "    try:\n",
        "\n",
        "        program_name = soup.find('div',{'class': 'bannerText'}).h1.get_text()\n",
        "        print(program_name)\n",
        "\n",
        "        module_list = soup.find_all('div',{'class': 'cmp-coursemodule__box--row cmp-coursemodule__box--full'})\n",
        "        module_list = [x.p.get_text().strip() for x in module_list]\n",
        "    except:\n",
        "        program_name = soup.find('div',{'id': 'titleKeyFacts'}).h1.get_text()\n",
        "        print(program_name)\n",
        "        module_card = soup.find_all('div',{'class': 'moduleBlock'})\n",
        "        module_list = []\n",
        "        def find_module_name_nottingham(sp):\n",
        "          try:\n",
        "            module_name = sp.get_text().strip().replace(sp.find('span',{'class':\"courseCredits\"}).text.strip(), \"\").strip()\n",
        "          except:\n",
        "            module_name = sp.get_text().strip()\n",
        "          return module_name\n",
        "\n",
        "        for i in module_card:\n",
        "            course_list = i.find_all('div',{'class': 'js-expandmore'})\n",
        "            module_list.extend(course_list)\n",
        "        module_list = [find_module_name_nottingham(x) for x in module_list]\n",
        "    return program_name, module_list\n",
        "\n",
        "\n"
      ],
      "metadata": {
        "id": "hvCV_h-x5cJ0"
      },
      "execution_count": null,
      "outputs": []
    },
    {
      "cell_type": "code",
      "source": [
        "\n",
        "def oxford(url):\n",
        "    chrome_options = webdriver.ChromeOptions()\n",
        "    chrome_options.add_argument('--headless')\n",
        "    chrome_options.add_argument('--no-sandbox')\n",
        "    chrome_options.add_argument('--disable-dev-shm-usage')\n",
        "    driver = webdriver.Chrome(options=chrome_options)\n",
        "    driver.get(url)\n",
        "    time.sleep(1)\n",
        "    soup = BeautifulSoup(driver.page_source)\n",
        "    driver.close()\n",
        "    program_name = soup.find('header',{'class': 'main-title'}).h1.get_text()\n",
        "    print(program_name)\n",
        "\n",
        "    try:\n",
        "        module_list = []\n",
        "        module_card_pre = soup.find('div',{'id': 'content-tab--2'})\n",
        "        module_card = module_card_pre.find_all('table')\n",
        "\n",
        "        for i in module_card:\n",
        "            course_list = i.find('ul').find_all('li',recursive = False)\n",
        "            for j in course_list:\n",
        "              course_list2 = j.find_all('li')\n",
        "              module_list.extend(course_list2)\n",
        "    except:\n",
        "\n",
        "        module_list = []\n",
        "        module_card_pre = soup.find('div',{'id':'content-tab'})\n",
        "        module_card = module_card_pre.find_all('div')\n",
        "        for i in module_card:\n",
        "            course_list = i.find_all('h4')\n",
        "            module_list.extend(course_list)\n",
        "\n",
        "    module_list = [x.get_text() for x in module_list]\n",
        "    return program_name, module_list"
      ],
      "metadata": {
        "id": "A44_5j_FHu2L"
      },
      "execution_count": null,
      "outputs": []
    },
    {
      "cell_type": "code",
      "source": [
        "def queenmary(url):\n",
        "    r = requests.get(url)\n",
        "    soup = BeautifulSoup(r.text)\n",
        "\n",
        "    try:\n",
        "        program_name = soup.find('div',{'class': 'course-title grid__item grid__item--1/2'}).h1.get_text()\n",
        "        print(program_name)\n",
        "\n",
        "        module_list = []\n",
        "        module_card_pre = soup.find('div',{'id': 'structure-tabs'})\n",
        "        module_list = module_card_pre.find_all('li')\n",
        "        module_list = [x.get_text().strip() for x in module_list]\n",
        "\n",
        "    except:\n",
        "        program_name = soup.find('div',{'class': 'pgt-header__panel'}).h1.get_text()\n",
        "        print(program_name)\n",
        "\n",
        "        module_list = []\n",
        "        module_list = soup.find_all('h4',{'class':'disclosure-box__title'})\n",
        "        module_list = [x.get_text().strip() for x in module_list]\n",
        "    return program_name, module_list"
      ],
      "metadata": {
        "id": "S77GrGhZIr9c"
      },
      "execution_count": null,
      "outputs": []
    },
    {
      "cell_type": "code",
      "source": [
        "def queenmary_bel(url):\n",
        "    r = requests.get(url)\n",
        "    soup = BeautifulSoup(r.text)\n",
        "\n",
        "    try:\n",
        "        program_name = soup.find('header',{'class': 'cf-banner-new'}).h1.get_text().strip()\n",
        "    except:\n",
        "        program_name = soup.find('div',{'class': 'cf-banner-new'}).h1.span.get_text().strip()\n",
        "\n",
        "    print(program_name)\n",
        "\n",
        "    module_list = []\n",
        "    module_card_pre = soup.find('div',{'id': 'modules'})\n",
        "    module_list = module_card_pre.find_all('div',{'class':'icon-list plus display-block'})\n",
        "    module_list = [x.a.get_text() for x in module_list]\n",
        "    return program_name, module_list"
      ],
      "metadata": {
        "id": "2JnMrTMXIym_"
      },
      "execution_count": null,
      "outputs": []
    },
    {
      "cell_type": "code",
      "source": [
        "def sheffied(url):\n",
        "    r = requests.get(url)\n",
        "    soup = BeautifulSoup(r.text)\n",
        "\n",
        "    try:\n",
        "        program_name = soup.find('div',{'class': 'topdetail'}).h1.get_text().strip()\n",
        "\n",
        "    except:\n",
        "        program_name = soup.find('h1',{'class': 'pgtitle'}).get_text().strip()\n",
        "    print(program_name)\n",
        "\n",
        "    module_list = []\n",
        "    module_card = soup.find_all('div',{'class': 'paragraph paragraph--type--ug-course-structure-module-block paragraph--view-mode--full'})\n",
        "    for i in module_card:\n",
        "        course_list = i.find_all('dt')\n",
        "        module_list.extend(course_list)\n",
        "    module_list = [x.get_text() for x in module_list]\n",
        "    return program_name, module_list"
      ],
      "metadata": {
        "id": "NdhuS3tvI82f"
      },
      "execution_count": null,
      "outputs": []
    },
    {
      "cell_type": "code",
      "source": [
        "def edinburgh(url):\n",
        "    r = requests.get(url)\n",
        "    soup = BeautifulSoup(r.text)\n",
        "    program_name = soup.find('h1',{'class': 'page-header'}).get_text().strip()\n",
        "    try:\n",
        "      program_lel = soup.find('h1',{'class': 'page-header'}).find('small').get_text().strip()\n",
        "    except:\n",
        "      program_lel = ''\n",
        "    program_name = program_name.replace(program_lel,'').strip() +  program_lel\n",
        "    print(program_name)\n",
        "\n",
        "    url_course = soup.find('a', href=lambda x: x and x.startswith(\"http://www.drps.ed.ac.uk/23-24/\")).attrs['href']\n",
        "    r = requests.get(url_course)\n",
        "    soup = BeautifulSoup(r.text)\n",
        "\n",
        "\n",
        "    module_list = []\n",
        "    module_list = soup.find_all('div',{'class':'dpt-course-card dpt-flex__item dpt-flex'})\n",
        "\n",
        "\n",
        "    module_list = [x.span.a.get_text() for x in module_list]\n",
        "    return program_name, module_list"
      ],
      "metadata": {
        "id": "bxOiwF6EJN1b"
      },
      "execution_count": null,
      "outputs": []
    },
    {
      "cell_type": "code",
      "source": [
        "def exeter(url):\n",
        "    chrome_options = webdriver.ChromeOptions()\n",
        "    chrome_options.add_argument('--headless')\n",
        "    chrome_options.add_argument('--no-sandbox')\n",
        "    chrome_options.add_argument('--disable-dev-shm-usage')\n",
        "    driver = webdriver.Chrome(options=chrome_options)\n",
        "    driver.get(url)\n",
        "    time.sleep(1)\n",
        "    soup = BeautifulSoup(driver.page_source)\n",
        "    driver.close()\n",
        "    program_name = soup.find('span',{'id': 'award'}).get_text() + soup.find('span',{'class': 'exeter-course-title'}).get_text().replace(soup.find('span',{'class': 'exeter-course-title'}).span.get_text(),'').strip()\n",
        "\n",
        "    print(program_name)\n",
        "\n",
        "\n",
        "    module_list = []\n",
        "    try:\n",
        "        course_url = soup.find('iframe',{'class':'rsize'}).attrs['src']\n",
        "        r = requests.get('https:'+course_url)\n",
        "        module_card_pre = BeautifulSoup(r.text)\n",
        "\n",
        "    except:\n",
        "        module_card_pre = soup.find('div',{'id': 'course-content-accordion'})\n",
        "\n",
        "    module_card = module_card_pre.find_all('table')\n",
        "    for i in module_card:\n",
        "        course_list = i.find_all('tr')[1:]\n",
        "        module_list.extend(course_list)\n",
        "\n",
        "    def find_module_name_exeter(sp):\n",
        "      sp_list = sp.find_all('td')\n",
        "      if len(sp_list)>1:\n",
        "        return sp_list[1].get_text()\n",
        "      else:\n",
        "        return None\n",
        "\n",
        "    module_list = [text for text in (find_module_name_exeter(x) for x in module_list) if text is not None]\n",
        "    return program_name, module_list"
      ],
      "metadata": {
        "id": "aC7TOBKTJU1y"
      },
      "execution_count": null,
      "outputs": []
    },
    {
      "cell_type": "code",
      "source": [
        "def glasgow(url):\n",
        "    r = requests.get(url)\n",
        "    soup = BeautifulSoup(r.text)\n",
        "    program_name = soup.find('div',{'id': 'prog-title'}).h1.get_text().replace(soup.find('div',{'id': 'prog-title'}).h1.span.get_text(),' ').strip() + soup.find('div',{'id': 'prog-title'}).h1.span.get_text()\n",
        "    print(program_name)\n",
        "\n",
        "    module_list = []\n",
        "    module_list = soup.find_all('a', href=lambda x: x and x.startswith(\"?card=course&\"))\n",
        "    module_list = [x.get_text() for x in module_list]\n",
        "    return program_name, module_list"
      ],
      "metadata": {
        "id": "JbggjNiZJbgK"
      },
      "execution_count": null,
      "outputs": []
    },
    {
      "cell_type": "code",
      "source": [
        "def ic(url):\n",
        "    r = requests.get(url)\n",
        "    soup = BeautifulSoup(r.text)\n",
        "    program_name = soup.find('h1',{'class': 'masthead-full-image__card-title'}).get_text()+ soup.find('li',{'class': 'course-tags-list__qualification'}).get_text()\n",
        "    print(program_name)\n",
        "\n",
        "    module_list = []\n",
        "    module_card = soup.find_all('section', {'aria-labelledby':lambda x: x and x.startswith(\"course-structure-tab-\")})\n",
        "    for i in module_card:\n",
        "        course_list_1 = i.find_all('span',{'class':'accordion__title'})\n",
        "        course_list_2 = i.find_all('li')\n",
        "        module_list.extend(course_list_1)\n",
        "        module_list.extend(course_list_2)\n",
        "    module_list = [x.get_text() for x in module_list]\n",
        "    return program_name, module_list\n"
      ],
      "metadata": {
        "id": "L1hUy7Q7JgnE"
      },
      "execution_count": null,
      "outputs": []
    },
    {
      "cell_type": "code",
      "source": [
        "def kcl(url):\n",
        "  return '',[]"
      ],
      "metadata": {
        "id": "iMCPqdZLJkf0"
      },
      "execution_count": null,
      "outputs": []
    },
    {
      "cell_type": "code",
      "source": [
        "def leeds(url):\n",
        "  return '',[]"
      ],
      "metadata": {
        "id": "weBSxliHVqCn"
      },
      "execution_count": null,
      "outputs": []
    },
    {
      "cell_type": "code",
      "source": [
        "def cambridge(url):\n",
        "  return '',[]"
      ],
      "metadata": {
        "id": "-L_rYf0jVqEt"
      },
      "execution_count": null,
      "outputs": []
    },
    {
      "cell_type": "code",
      "source": [
        "def durham(url):\n",
        "  return '',[]"
      ],
      "metadata": {
        "id": "z_javB-lVuZu"
      },
      "execution_count": null,
      "outputs": []
    },
    {
      "cell_type": "markdown",
      "source": [
        "**Leeds & Cambridge have no module list detail**\n",
        "\n",
        "**Durham can not use web scrapping**\n",
        "\n",
        "**oxford is not commonly used by some subjects**\n",
        "\n",
        "**kcl left now**\n",
        "\n"
      ],
      "metadata": {
        "id": "x7sKRX3i7Hxj"
      }
    },
    {
      "cell_type": "code",
      "source": [
        "df_raw = pd.read_excel('/content/drive/MyDrive/Colab Notebooks/module.xlsx')\n",
        "df_raw.head()"
      ],
      "metadata": {
        "colab": {
          "base_uri": "https://localhost:8080/",
          "height": 206
        },
        "id": "maTk__jCRj01",
        "outputId": "2a206a71-320a-4f15-f9ed-7175386c3c89"
      },
      "execution_count": null,
      "outputs": [
        {
          "output_type": "execute_result",
          "data": {
            "text/plain": [
              "                       uni  subject  \\\n",
              "0  University of Edinburgh      NaN   \n",
              "1  University of Edinburgh      NaN   \n",
              "2  University of Edinburgh      NaN   \n",
              "3  University of Edinburgh      NaN   \n",
              "4  University of Edinburgh      NaN   \n",
              "\n",
              "                                                 url  module  \n",
              "0  https://www.ed.ac.uk/studying/undergraduate/de...     NaN  \n",
              "1  https://www.ed.ac.uk/studying/undergraduate/de...     NaN  \n",
              "2  https://www.ed.ac.uk/studying/undergraduate/de...     NaN  \n",
              "3  https://www.ed.ac.uk/studying/undergraduate/de...     NaN  \n",
              "4  https://www.ed.ac.uk/studying/undergraduate/de...     NaN  "
            ],
            "text/html": [
              "\n",
              "  <div id=\"df-72347dff-766f-4282-834a-6297c7d85c71\" class=\"colab-df-container\">\n",
              "    <div>\n",
              "<style scoped>\n",
              "    .dataframe tbody tr th:only-of-type {\n",
              "        vertical-align: middle;\n",
              "    }\n",
              "\n",
              "    .dataframe tbody tr th {\n",
              "        vertical-align: top;\n",
              "    }\n",
              "\n",
              "    .dataframe thead th {\n",
              "        text-align: right;\n",
              "    }\n",
              "</style>\n",
              "<table border=\"1\" class=\"dataframe\">\n",
              "  <thead>\n",
              "    <tr style=\"text-align: right;\">\n",
              "      <th></th>\n",
              "      <th>uni</th>\n",
              "      <th>subject</th>\n",
              "      <th>url</th>\n",
              "      <th>module</th>\n",
              "    </tr>\n",
              "  </thead>\n",
              "  <tbody>\n",
              "    <tr>\n",
              "      <th>0</th>\n",
              "      <td>University of Edinburgh</td>\n",
              "      <td>NaN</td>\n",
              "      <td>https://www.ed.ac.uk/studying/undergraduate/de...</td>\n",
              "      <td>NaN</td>\n",
              "    </tr>\n",
              "    <tr>\n",
              "      <th>1</th>\n",
              "      <td>University of Edinburgh</td>\n",
              "      <td>NaN</td>\n",
              "      <td>https://www.ed.ac.uk/studying/undergraduate/de...</td>\n",
              "      <td>NaN</td>\n",
              "    </tr>\n",
              "    <tr>\n",
              "      <th>2</th>\n",
              "      <td>University of Edinburgh</td>\n",
              "      <td>NaN</td>\n",
              "      <td>https://www.ed.ac.uk/studying/undergraduate/de...</td>\n",
              "      <td>NaN</td>\n",
              "    </tr>\n",
              "    <tr>\n",
              "      <th>3</th>\n",
              "      <td>University of Edinburgh</td>\n",
              "      <td>NaN</td>\n",
              "      <td>https://www.ed.ac.uk/studying/undergraduate/de...</td>\n",
              "      <td>NaN</td>\n",
              "    </tr>\n",
              "    <tr>\n",
              "      <th>4</th>\n",
              "      <td>University of Edinburgh</td>\n",
              "      <td>NaN</td>\n",
              "      <td>https://www.ed.ac.uk/studying/undergraduate/de...</td>\n",
              "      <td>NaN</td>\n",
              "    </tr>\n",
              "  </tbody>\n",
              "</table>\n",
              "</div>\n",
              "    <div class=\"colab-df-buttons\">\n",
              "\n",
              "  <div class=\"colab-df-container\">\n",
              "    <button class=\"colab-df-convert\" onclick=\"convertToInteractive('df-72347dff-766f-4282-834a-6297c7d85c71')\"\n",
              "            title=\"Convert this dataframe to an interactive table.\"\n",
              "            style=\"display:none;\">\n",
              "\n",
              "  <svg xmlns=\"http://www.w3.org/2000/svg\" height=\"24px\" viewBox=\"0 -960 960 960\">\n",
              "    <path d=\"M120-120v-720h720v720H120Zm60-500h600v-160H180v160Zm220 220h160v-160H400v160Zm0 220h160v-160H400v160ZM180-400h160v-160H180v160Zm440 0h160v-160H620v160ZM180-180h160v-160H180v160Zm440 0h160v-160H620v160Z\"/>\n",
              "  </svg>\n",
              "    </button>\n",
              "\n",
              "  <style>\n",
              "    .colab-df-container {\n",
              "      display:flex;\n",
              "      gap: 12px;\n",
              "    }\n",
              "\n",
              "    .colab-df-convert {\n",
              "      background-color: #E8F0FE;\n",
              "      border: none;\n",
              "      border-radius: 50%;\n",
              "      cursor: pointer;\n",
              "      display: none;\n",
              "      fill: #1967D2;\n",
              "      height: 32px;\n",
              "      padding: 0 0 0 0;\n",
              "      width: 32px;\n",
              "    }\n",
              "\n",
              "    .colab-df-convert:hover {\n",
              "      background-color: #E2EBFA;\n",
              "      box-shadow: 0px 1px 2px rgba(60, 64, 67, 0.3), 0px 1px 3px 1px rgba(60, 64, 67, 0.15);\n",
              "      fill: #174EA6;\n",
              "    }\n",
              "\n",
              "    .colab-df-buttons div {\n",
              "      margin-bottom: 4px;\n",
              "    }\n",
              "\n",
              "    [theme=dark] .colab-df-convert {\n",
              "      background-color: #3B4455;\n",
              "      fill: #D2E3FC;\n",
              "    }\n",
              "\n",
              "    [theme=dark] .colab-df-convert:hover {\n",
              "      background-color: #434B5C;\n",
              "      box-shadow: 0px 1px 3px 1px rgba(0, 0, 0, 0.15);\n",
              "      filter: drop-shadow(0px 1px 2px rgba(0, 0, 0, 0.3));\n",
              "      fill: #FFFFFF;\n",
              "    }\n",
              "  </style>\n",
              "\n",
              "    <script>\n",
              "      const buttonEl =\n",
              "        document.querySelector('#df-72347dff-766f-4282-834a-6297c7d85c71 button.colab-df-convert');\n",
              "      buttonEl.style.display =\n",
              "        google.colab.kernel.accessAllowed ? 'block' : 'none';\n",
              "\n",
              "      async function convertToInteractive(key) {\n",
              "        const element = document.querySelector('#df-72347dff-766f-4282-834a-6297c7d85c71');\n",
              "        const dataTable =\n",
              "          await google.colab.kernel.invokeFunction('convertToInteractive',\n",
              "                                                    [key], {});\n",
              "        if (!dataTable) return;\n",
              "\n",
              "        const docLinkHtml = 'Like what you see? Visit the ' +\n",
              "          '<a target=\"_blank\" href=https://colab.research.google.com/notebooks/data_table.ipynb>data table notebook</a>'\n",
              "          + ' to learn more about interactive tables.';\n",
              "        element.innerHTML = '';\n",
              "        dataTable['output_type'] = 'display_data';\n",
              "        await google.colab.output.renderOutput(dataTable, element);\n",
              "        const docLink = document.createElement('div');\n",
              "        docLink.innerHTML = docLinkHtml;\n",
              "        element.appendChild(docLink);\n",
              "      }\n",
              "    </script>\n",
              "  </div>\n",
              "\n",
              "\n",
              "<div id=\"df-4f315c1f-f6f3-491e-87fe-53d07e14a541\">\n",
              "  <button class=\"colab-df-quickchart\" onclick=\"quickchart('df-4f315c1f-f6f3-491e-87fe-53d07e14a541')\"\n",
              "            title=\"Suggest charts\"\n",
              "            style=\"display:none;\">\n",
              "\n",
              "<svg xmlns=\"http://www.w3.org/2000/svg\" height=\"24px\"viewBox=\"0 0 24 24\"\n",
              "     width=\"24px\">\n",
              "    <g>\n",
              "        <path d=\"M19 3H5c-1.1 0-2 .9-2 2v14c0 1.1.9 2 2 2h14c1.1 0 2-.9 2-2V5c0-1.1-.9-2-2-2zM9 17H7v-7h2v7zm4 0h-2V7h2v10zm4 0h-2v-4h2v4z\"/>\n",
              "    </g>\n",
              "</svg>\n",
              "  </button>\n",
              "\n",
              "<style>\n",
              "  .colab-df-quickchart {\n",
              "      --bg-color: #E8F0FE;\n",
              "      --fill-color: #1967D2;\n",
              "      --hover-bg-color: #E2EBFA;\n",
              "      --hover-fill-color: #174EA6;\n",
              "      --disabled-fill-color: #AAA;\n",
              "      --disabled-bg-color: #DDD;\n",
              "  }\n",
              "\n",
              "  [theme=dark] .colab-df-quickchart {\n",
              "      --bg-color: #3B4455;\n",
              "      --fill-color: #D2E3FC;\n",
              "      --hover-bg-color: #434B5C;\n",
              "      --hover-fill-color: #FFFFFF;\n",
              "      --disabled-bg-color: #3B4455;\n",
              "      --disabled-fill-color: #666;\n",
              "  }\n",
              "\n",
              "  .colab-df-quickchart {\n",
              "    background-color: var(--bg-color);\n",
              "    border: none;\n",
              "    border-radius: 50%;\n",
              "    cursor: pointer;\n",
              "    display: none;\n",
              "    fill: var(--fill-color);\n",
              "    height: 32px;\n",
              "    padding: 0;\n",
              "    width: 32px;\n",
              "  }\n",
              "\n",
              "  .colab-df-quickchart:hover {\n",
              "    background-color: var(--hover-bg-color);\n",
              "    box-shadow: 0 1px 2px rgba(60, 64, 67, 0.3), 0 1px 3px 1px rgba(60, 64, 67, 0.15);\n",
              "    fill: var(--button-hover-fill-color);\n",
              "  }\n",
              "\n",
              "  .colab-df-quickchart-complete:disabled,\n",
              "  .colab-df-quickchart-complete:disabled:hover {\n",
              "    background-color: var(--disabled-bg-color);\n",
              "    fill: var(--disabled-fill-color);\n",
              "    box-shadow: none;\n",
              "  }\n",
              "\n",
              "  .colab-df-spinner {\n",
              "    border: 2px solid var(--fill-color);\n",
              "    border-color: transparent;\n",
              "    border-bottom-color: var(--fill-color);\n",
              "    animation:\n",
              "      spin 1s steps(1) infinite;\n",
              "  }\n",
              "\n",
              "  @keyframes spin {\n",
              "    0% {\n",
              "      border-color: transparent;\n",
              "      border-bottom-color: var(--fill-color);\n",
              "      border-left-color: var(--fill-color);\n",
              "    }\n",
              "    20% {\n",
              "      border-color: transparent;\n",
              "      border-left-color: var(--fill-color);\n",
              "      border-top-color: var(--fill-color);\n",
              "    }\n",
              "    30% {\n",
              "      border-color: transparent;\n",
              "      border-left-color: var(--fill-color);\n",
              "      border-top-color: var(--fill-color);\n",
              "      border-right-color: var(--fill-color);\n",
              "    }\n",
              "    40% {\n",
              "      border-color: transparent;\n",
              "      border-right-color: var(--fill-color);\n",
              "      border-top-color: var(--fill-color);\n",
              "    }\n",
              "    60% {\n",
              "      border-color: transparent;\n",
              "      border-right-color: var(--fill-color);\n",
              "    }\n",
              "    80% {\n",
              "      border-color: transparent;\n",
              "      border-right-color: var(--fill-color);\n",
              "      border-bottom-color: var(--fill-color);\n",
              "    }\n",
              "    90% {\n",
              "      border-color: transparent;\n",
              "      border-bottom-color: var(--fill-color);\n",
              "    }\n",
              "  }\n",
              "</style>\n",
              "\n",
              "  <script>\n",
              "    async function quickchart(key) {\n",
              "      const quickchartButtonEl =\n",
              "        document.querySelector('#' + key + ' button');\n",
              "      quickchartButtonEl.disabled = true;  // To prevent multiple clicks.\n",
              "      quickchartButtonEl.classList.add('colab-df-spinner');\n",
              "      try {\n",
              "        const charts = await google.colab.kernel.invokeFunction(\n",
              "            'suggestCharts', [key], {});\n",
              "      } catch (error) {\n",
              "        console.error('Error during call to suggestCharts:', error);\n",
              "      }\n",
              "      quickchartButtonEl.classList.remove('colab-df-spinner');\n",
              "      quickchartButtonEl.classList.add('colab-df-quickchart-complete');\n",
              "    }\n",
              "    (() => {\n",
              "      let quickchartButtonEl =\n",
              "        document.querySelector('#df-4f315c1f-f6f3-491e-87fe-53d07e14a541 button');\n",
              "      quickchartButtonEl.style.display =\n",
              "        google.colab.kernel.accessAllowed ? 'block' : 'none';\n",
              "    })();\n",
              "  </script>\n",
              "</div>\n",
              "    </div>\n",
              "  </div>\n"
            ],
            "application/vnd.google.colaboratory.intrinsic+json": {
              "type": "dataframe",
              "variable_name": "df_raw",
              "summary": "{\n  \"name\": \"df_raw\",\n  \"rows\": 539,\n  \"fields\": [\n    {\n      \"column\": \"uni\",\n      \"properties\": {\n        \"dtype\": \"category\",\n        \"num_unique_values\": 24,\n        \"samples\": [\n          \"University of Cardiff\",\n          \"OXFORD\\u00a0\",\n          \"University of Edinburgh\"\n        ],\n        \"semantic_type\": \"\",\n        \"description\": \"\"\n      }\n    },\n    {\n      \"column\": \"subject\",\n      \"properties\": {\n        \"dtype\": \"number\",\n        \"std\": null,\n        \"min\": null,\n        \"max\": null,\n        \"num_unique_values\": 0,\n        \"samples\": [],\n        \"semantic_type\": \"\",\n        \"description\": \"\"\n      }\n    },\n    {\n      \"column\": \"url\",\n      \"properties\": {\n        \"dtype\": \"string\",\n        \"num_unique_values\": 532,\n        \"samples\": [],\n        \"semantic_type\": \"\",\n        \"description\": \"\"\n      }\n    },\n    {\n      \"column\": \"module\",\n      \"properties\": {\n        \"dtype\": \"number\",\n        \"std\": null,\n        \"min\": null,\n        \"max\": null,\n        \"num_unique_values\": 0,\n        \"samples\": [],\n        \"semantic_type\": \"\",\n        \"description\": \"\"\n      }\n    }\n  ]\n}"
            }
          },
          "metadata": {},
          "execution_count": 30
        }
      ]
    },
    {
      "cell_type": "code",
      "source": [
        "df_raw['uni'].value_counts()"
      ],
      "metadata": {
        "colab": {
          "base_uri": "https://localhost:8080/"
        },
        "id": "uzuf1lpwTxjs",
        "outputId": "79032ccb-501f-4546-df38-89d6f04c3a66"
      },
      "execution_count": null,
      "outputs": [
        {
          "output_type": "execute_result",
          "data": {
            "text/plain": [
              "UNIVERITY OF LIVERPOOL       61\n",
              "NEWCASTLE UNIVERSITY         45\n",
              "Uni of Sheffield             41\n",
              "UNIVERSITY OF MANCHESTER     40\n",
              "UNIVERSITY OF NOTTINGHAM     35\n",
              "UNIVERSITY OF LEEDS          32\n",
              "QUEEN MARY                   28\n",
              "University of Edinburgh      27\n",
              "QUEEN MARY BELFAST           25\n",
              "university of southampton    23\n",
              "University of Exeter         22\n",
              "Imperial College London      22\n",
              "university of york           21\n",
              "UCL                          19\n",
              "University of Bristol        13\n",
              "Kings College London         13\n",
              "University of Glasgow        13\n",
              "university of Warwick        12\n",
              "University of Cardiff        11\n",
              "University of Birmingham     10\n",
              "LSE                          10\n",
              "OXFORD                        7\n",
              "University of Cambridge       5\n",
              "University of Durham          4\n",
              "Name: uni, dtype: int64"
            ]
          },
          "metadata": {},
          "execution_count": 31
        }
      ]
    },
    {
      "cell_type": "code",
      "source": [
        "university_functions = {\n",
        "    'UNIVERITY OF LIVERPOOL': liverpool,\n",
        "    'NEWCASTLE UNIVERSITY': newcastle,\n",
        "    'Uni of Sheffield': sheffied,\n",
        "    'UNIVERSITY OF MANCHESTER': manchester,\n",
        "    'UNIVERSITY OF NOTTINGHAM': nottingham,\n",
        "    'QUEEN MARY': queenmary,\n",
        "    'University of Edinburgh': edinburgh,\n",
        "    'QUEEN MARY BELFAST': queenmary_bel,\n",
        "    'university of southampton': southampton,\n",
        "    'University of Exeter': exeter,\n",
        "    'Imperial College London': ic,\n",
        "    'university of york': york,\n",
        "    'UCL': ucl,\n",
        "    'University of Bristol': bristol,\n",
        "    'University of Glasgow': glasgow,\n",
        "    'university of Warwick': warwick,\n",
        "    'University of Cardiff': cardiff,\n",
        "    'University of Birmingham': birmingham,\n",
        "    'LSE': lse,\n",
        "    'OXFORD': oxford,\n",
        "    'University of Cambridge': cambridge,\n",
        "    'University of Durham': durham,\n",
        "    'Kings College London': kcl,\n",
        "    'UNIVERSITY OF LEEDS': leeds\n",
        "    }"
      ],
      "metadata": {
        "id": "ERfS0FjbTj45"
      },
      "execution_count": null,
      "outputs": []
    },
    {
      "cell_type": "code",
      "source": [
        "def write_data(university_name, url, excel_file_path):\n",
        "    data_fetch_function = university_functions[university_name]\n",
        "    try:\n",
        "        subject_name, module_list = data_fetch_function(url)\n",
        "        modules_str = ', '.join(module_list)\n",
        "\n",
        "    except:\n",
        "        subject_name, modules_str = '',''\n",
        "    try:\n",
        "        df = pd.read_excel(excel_file_path)\n",
        "    except:\n",
        "        df = pd.DataFrame(columns=['University','Subject','Modules','url'])\n",
        "\n",
        "    new_row = {'University': university_name,'Subject':subject_name, 'Modules': modules_str,'url':url}\n",
        "    df = df.append(new_row, ignore_index=True)\n",
        "    df.to_excel(excel_file_path, index=False)\n",
        "    time.sleep(1)\n",
        "\n"
      ],
      "metadata": {
        "id": "iG93z02cWP4x"
      },
      "execution_count": null,
      "outputs": []
    },
    {
      "cell_type": "code",
      "source": [
        "import re\n",
        "def clean_string(input_string):\n",
        "    cleaned_string = re.sub(r'\\s+', ' ', input_string)\n",
        "    cleaned_string = cleaned_string.strip()\n",
        "    return cleaned_string"
      ],
      "metadata": {
        "id": "-kjwYlyyxEdA"
      },
      "execution_count": null,
      "outputs": []
    },
    {
      "cell_type": "code",
      "source": [
        "df_raw_liv = df_raw[df_raw['uni'].str.contains('Birmingham') ]\n",
        "df_raw_liv"
      ],
      "metadata": {
        "colab": {
          "base_uri": "https://localhost:8080/",
          "height": 363
        },
        "id": "frB3MrwEI3cM",
        "outputId": "2eccd43c-4175-4e83-cadb-6e4390fcd018"
      },
      "execution_count": null,
      "outputs": [
        {
          "output_type": "execute_result",
          "data": {
            "text/plain": [
              "                          uni  subject  \\\n",
              "97   University of Birmingham      NaN   \n",
              "98   University of Birmingham      NaN   \n",
              "99   University of Birmingham      NaN   \n",
              "100  University of Birmingham      NaN   \n",
              "101  University of Birmingham      NaN   \n",
              "102  University of Birmingham      NaN   \n",
              "103  University of Birmingham      NaN   \n",
              "104  University of Birmingham      NaN   \n",
              "105  University of Birmingham      NaN   \n",
              "106  University of Birmingham      NaN   \n",
              "\n",
              "                                                   url  module  \n",
              "97   https://www.birmingham.ac.uk/postgraduate/cour...     NaN  \n",
              "98   https://www.birmingham.ac.uk/postgraduate/cour...     NaN  \n",
              "99   https://www.birmingham.ac.uk/undergraduate/cou...     NaN  \n",
              "100  https://www.birmingham.ac.uk/postgraduate/cour...     NaN  \n",
              "101  https://www.birmingham.ac.uk/postgraduate/cour...     NaN  \n",
              "102  https://www.birmingham.ac.uk/undergraduate/cou...     NaN  \n",
              "103  https://www.birmingham.ac.uk/undergraduate/cou...     NaN  \n",
              "104  https://www.birmingham.ac.uk/postgraduate/cour...     NaN  \n",
              "105  https://www.birmingham.ac.uk/postgraduate/cour...     NaN  \n",
              "106  https://www.birmingham.ac.uk/postgraduate/cour...     NaN  "
            ],
            "text/html": [
              "\n",
              "  <div id=\"df-eed3f075-526b-4971-a4b6-34a6c97a5444\" class=\"colab-df-container\">\n",
              "    <div>\n",
              "<style scoped>\n",
              "    .dataframe tbody tr th:only-of-type {\n",
              "        vertical-align: middle;\n",
              "    }\n",
              "\n",
              "    .dataframe tbody tr th {\n",
              "        vertical-align: top;\n",
              "    }\n",
              "\n",
              "    .dataframe thead th {\n",
              "        text-align: right;\n",
              "    }\n",
              "</style>\n",
              "<table border=\"1\" class=\"dataframe\">\n",
              "  <thead>\n",
              "    <tr style=\"text-align: right;\">\n",
              "      <th></th>\n",
              "      <th>uni</th>\n",
              "      <th>subject</th>\n",
              "      <th>url</th>\n",
              "      <th>module</th>\n",
              "    </tr>\n",
              "  </thead>\n",
              "  <tbody>\n",
              "    <tr>\n",
              "      <th>97</th>\n",
              "      <td>University of Birmingham</td>\n",
              "      <td>NaN</td>\n",
              "      <td>https://www.birmingham.ac.uk/postgraduate/cour...</td>\n",
              "      <td>NaN</td>\n",
              "    </tr>\n",
              "    <tr>\n",
              "      <th>98</th>\n",
              "      <td>University of Birmingham</td>\n",
              "      <td>NaN</td>\n",
              "      <td>https://www.birmingham.ac.uk/postgraduate/cour...</td>\n",
              "      <td>NaN</td>\n",
              "    </tr>\n",
              "    <tr>\n",
              "      <th>99</th>\n",
              "      <td>University of Birmingham</td>\n",
              "      <td>NaN</td>\n",
              "      <td>https://www.birmingham.ac.uk/undergraduate/cou...</td>\n",
              "      <td>NaN</td>\n",
              "    </tr>\n",
              "    <tr>\n",
              "      <th>100</th>\n",
              "      <td>University of Birmingham</td>\n",
              "      <td>NaN</td>\n",
              "      <td>https://www.birmingham.ac.uk/postgraduate/cour...</td>\n",
              "      <td>NaN</td>\n",
              "    </tr>\n",
              "    <tr>\n",
              "      <th>101</th>\n",
              "      <td>University of Birmingham</td>\n",
              "      <td>NaN</td>\n",
              "      <td>https://www.birmingham.ac.uk/postgraduate/cour...</td>\n",
              "      <td>NaN</td>\n",
              "    </tr>\n",
              "    <tr>\n",
              "      <th>102</th>\n",
              "      <td>University of Birmingham</td>\n",
              "      <td>NaN</td>\n",
              "      <td>https://www.birmingham.ac.uk/undergraduate/cou...</td>\n",
              "      <td>NaN</td>\n",
              "    </tr>\n",
              "    <tr>\n",
              "      <th>103</th>\n",
              "      <td>University of Birmingham</td>\n",
              "      <td>NaN</td>\n",
              "      <td>https://www.birmingham.ac.uk/undergraduate/cou...</td>\n",
              "      <td>NaN</td>\n",
              "    </tr>\n",
              "    <tr>\n",
              "      <th>104</th>\n",
              "      <td>University of Birmingham</td>\n",
              "      <td>NaN</td>\n",
              "      <td>https://www.birmingham.ac.uk/postgraduate/cour...</td>\n",
              "      <td>NaN</td>\n",
              "    </tr>\n",
              "    <tr>\n",
              "      <th>105</th>\n",
              "      <td>University of Birmingham</td>\n",
              "      <td>NaN</td>\n",
              "      <td>https://www.birmingham.ac.uk/postgraduate/cour...</td>\n",
              "      <td>NaN</td>\n",
              "    </tr>\n",
              "    <tr>\n",
              "      <th>106</th>\n",
              "      <td>University of Birmingham</td>\n",
              "      <td>NaN</td>\n",
              "      <td>https://www.birmingham.ac.uk/postgraduate/cour...</td>\n",
              "      <td>NaN</td>\n",
              "    </tr>\n",
              "  </tbody>\n",
              "</table>\n",
              "</div>\n",
              "    <div class=\"colab-df-buttons\">\n",
              "\n",
              "  <div class=\"colab-df-container\">\n",
              "    <button class=\"colab-df-convert\" onclick=\"convertToInteractive('df-eed3f075-526b-4971-a4b6-34a6c97a5444')\"\n",
              "            title=\"Convert this dataframe to an interactive table.\"\n",
              "            style=\"display:none;\">\n",
              "\n",
              "  <svg xmlns=\"http://www.w3.org/2000/svg\" height=\"24px\" viewBox=\"0 -960 960 960\">\n",
              "    <path d=\"M120-120v-720h720v720H120Zm60-500h600v-160H180v160Zm220 220h160v-160H400v160Zm0 220h160v-160H400v160ZM180-400h160v-160H180v160Zm440 0h160v-160H620v160ZM180-180h160v-160H180v160Zm440 0h160v-160H620v160Z\"/>\n",
              "  </svg>\n",
              "    </button>\n",
              "\n",
              "  <style>\n",
              "    .colab-df-container {\n",
              "      display:flex;\n",
              "      gap: 12px;\n",
              "    }\n",
              "\n",
              "    .colab-df-convert {\n",
              "      background-color: #E8F0FE;\n",
              "      border: none;\n",
              "      border-radius: 50%;\n",
              "      cursor: pointer;\n",
              "      display: none;\n",
              "      fill: #1967D2;\n",
              "      height: 32px;\n",
              "      padding: 0 0 0 0;\n",
              "      width: 32px;\n",
              "    }\n",
              "\n",
              "    .colab-df-convert:hover {\n",
              "      background-color: #E2EBFA;\n",
              "      box-shadow: 0px 1px 2px rgba(60, 64, 67, 0.3), 0px 1px 3px 1px rgba(60, 64, 67, 0.15);\n",
              "      fill: #174EA6;\n",
              "    }\n",
              "\n",
              "    .colab-df-buttons div {\n",
              "      margin-bottom: 4px;\n",
              "    }\n",
              "\n",
              "    [theme=dark] .colab-df-convert {\n",
              "      background-color: #3B4455;\n",
              "      fill: #D2E3FC;\n",
              "    }\n",
              "\n",
              "    [theme=dark] .colab-df-convert:hover {\n",
              "      background-color: #434B5C;\n",
              "      box-shadow: 0px 1px 3px 1px rgba(0, 0, 0, 0.15);\n",
              "      filter: drop-shadow(0px 1px 2px rgba(0, 0, 0, 0.3));\n",
              "      fill: #FFFFFF;\n",
              "    }\n",
              "  </style>\n",
              "\n",
              "    <script>\n",
              "      const buttonEl =\n",
              "        document.querySelector('#df-eed3f075-526b-4971-a4b6-34a6c97a5444 button.colab-df-convert');\n",
              "      buttonEl.style.display =\n",
              "        google.colab.kernel.accessAllowed ? 'block' : 'none';\n",
              "\n",
              "      async function convertToInteractive(key) {\n",
              "        const element = document.querySelector('#df-eed3f075-526b-4971-a4b6-34a6c97a5444');\n",
              "        const dataTable =\n",
              "          await google.colab.kernel.invokeFunction('convertToInteractive',\n",
              "                                                    [key], {});\n",
              "        if (!dataTable) return;\n",
              "\n",
              "        const docLinkHtml = 'Like what you see? Visit the ' +\n",
              "          '<a target=\"_blank\" href=https://colab.research.google.com/notebooks/data_table.ipynb>data table notebook</a>'\n",
              "          + ' to learn more about interactive tables.';\n",
              "        element.innerHTML = '';\n",
              "        dataTable['output_type'] = 'display_data';\n",
              "        await google.colab.output.renderOutput(dataTable, element);\n",
              "        const docLink = document.createElement('div');\n",
              "        docLink.innerHTML = docLinkHtml;\n",
              "        element.appendChild(docLink);\n",
              "      }\n",
              "    </script>\n",
              "  </div>\n",
              "\n",
              "\n",
              "<div id=\"df-27c46a9f-c2bf-4ba8-8c12-4d8b65be80d1\">\n",
              "  <button class=\"colab-df-quickchart\" onclick=\"quickchart('df-27c46a9f-c2bf-4ba8-8c12-4d8b65be80d1')\"\n",
              "            title=\"Suggest charts\"\n",
              "            style=\"display:none;\">\n",
              "\n",
              "<svg xmlns=\"http://www.w3.org/2000/svg\" height=\"24px\"viewBox=\"0 0 24 24\"\n",
              "     width=\"24px\">\n",
              "    <g>\n",
              "        <path d=\"M19 3H5c-1.1 0-2 .9-2 2v14c0 1.1.9 2 2 2h14c1.1 0 2-.9 2-2V5c0-1.1-.9-2-2-2zM9 17H7v-7h2v7zm4 0h-2V7h2v10zm4 0h-2v-4h2v4z\"/>\n",
              "    </g>\n",
              "</svg>\n",
              "  </button>\n",
              "\n",
              "<style>\n",
              "  .colab-df-quickchart {\n",
              "      --bg-color: #E8F0FE;\n",
              "      --fill-color: #1967D2;\n",
              "      --hover-bg-color: #E2EBFA;\n",
              "      --hover-fill-color: #174EA6;\n",
              "      --disabled-fill-color: #AAA;\n",
              "      --disabled-bg-color: #DDD;\n",
              "  }\n",
              "\n",
              "  [theme=dark] .colab-df-quickchart {\n",
              "      --bg-color: #3B4455;\n",
              "      --fill-color: #D2E3FC;\n",
              "      --hover-bg-color: #434B5C;\n",
              "      --hover-fill-color: #FFFFFF;\n",
              "      --disabled-bg-color: #3B4455;\n",
              "      --disabled-fill-color: #666;\n",
              "  }\n",
              "\n",
              "  .colab-df-quickchart {\n",
              "    background-color: var(--bg-color);\n",
              "    border: none;\n",
              "    border-radius: 50%;\n",
              "    cursor: pointer;\n",
              "    display: none;\n",
              "    fill: var(--fill-color);\n",
              "    height: 32px;\n",
              "    padding: 0;\n",
              "    width: 32px;\n",
              "  }\n",
              "\n",
              "  .colab-df-quickchart:hover {\n",
              "    background-color: var(--hover-bg-color);\n",
              "    box-shadow: 0 1px 2px rgba(60, 64, 67, 0.3), 0 1px 3px 1px rgba(60, 64, 67, 0.15);\n",
              "    fill: var(--button-hover-fill-color);\n",
              "  }\n",
              "\n",
              "  .colab-df-quickchart-complete:disabled,\n",
              "  .colab-df-quickchart-complete:disabled:hover {\n",
              "    background-color: var(--disabled-bg-color);\n",
              "    fill: var(--disabled-fill-color);\n",
              "    box-shadow: none;\n",
              "  }\n",
              "\n",
              "  .colab-df-spinner {\n",
              "    border: 2px solid var(--fill-color);\n",
              "    border-color: transparent;\n",
              "    border-bottom-color: var(--fill-color);\n",
              "    animation:\n",
              "      spin 1s steps(1) infinite;\n",
              "  }\n",
              "\n",
              "  @keyframes spin {\n",
              "    0% {\n",
              "      border-color: transparent;\n",
              "      border-bottom-color: var(--fill-color);\n",
              "      border-left-color: var(--fill-color);\n",
              "    }\n",
              "    20% {\n",
              "      border-color: transparent;\n",
              "      border-left-color: var(--fill-color);\n",
              "      border-top-color: var(--fill-color);\n",
              "    }\n",
              "    30% {\n",
              "      border-color: transparent;\n",
              "      border-left-color: var(--fill-color);\n",
              "      border-top-color: var(--fill-color);\n",
              "      border-right-color: var(--fill-color);\n",
              "    }\n",
              "    40% {\n",
              "      border-color: transparent;\n",
              "      border-right-color: var(--fill-color);\n",
              "      border-top-color: var(--fill-color);\n",
              "    }\n",
              "    60% {\n",
              "      border-color: transparent;\n",
              "      border-right-color: var(--fill-color);\n",
              "    }\n",
              "    80% {\n",
              "      border-color: transparent;\n",
              "      border-right-color: var(--fill-color);\n",
              "      border-bottom-color: var(--fill-color);\n",
              "    }\n",
              "    90% {\n",
              "      border-color: transparent;\n",
              "      border-bottom-color: var(--fill-color);\n",
              "    }\n",
              "  }\n",
              "</style>\n",
              "\n",
              "  <script>\n",
              "    async function quickchart(key) {\n",
              "      const quickchartButtonEl =\n",
              "        document.querySelector('#' + key + ' button');\n",
              "      quickchartButtonEl.disabled = true;  // To prevent multiple clicks.\n",
              "      quickchartButtonEl.classList.add('colab-df-spinner');\n",
              "      try {\n",
              "        const charts = await google.colab.kernel.invokeFunction(\n",
              "            'suggestCharts', [key], {});\n",
              "      } catch (error) {\n",
              "        console.error('Error during call to suggestCharts:', error);\n",
              "      }\n",
              "      quickchartButtonEl.classList.remove('colab-df-spinner');\n",
              "      quickchartButtonEl.classList.add('colab-df-quickchart-complete');\n",
              "    }\n",
              "    (() => {\n",
              "      let quickchartButtonEl =\n",
              "        document.querySelector('#df-27c46a9f-c2bf-4ba8-8c12-4d8b65be80d1 button');\n",
              "      quickchartButtonEl.style.display =\n",
              "        google.colab.kernel.accessAllowed ? 'block' : 'none';\n",
              "    })();\n",
              "  </script>\n",
              "</div>\n",
              "    </div>\n",
              "  </div>\n"
            ],
            "application/vnd.google.colaboratory.intrinsic+json": {
              "type": "dataframe",
              "variable_name": "df_raw_liv",
              "summary": "{\n  \"name\": \"df_raw_liv\",\n  \"rows\": 10,\n  \"fields\": [\n    {\n      \"column\": \"uni\",\n      \"properties\": {\n        \"dtype\": \"category\",\n        \"num_unique_values\": 1,\n        \"samples\": [\n          \"University of Birmingham\"\n        ],\n        \"semantic_type\": \"\",\n        \"description\": \"\"\n      }\n    },\n    {\n      \"column\": \"subject\",\n      \"properties\": {\n        \"dtype\": \"number\",\n        \"std\": null,\n        \"min\": null,\n        \"max\": null,\n        \"num_unique_values\": 0,\n        \"samples\": [],\n        \"semantic_type\": \"\",\n        \"description\": \"\"\n      }\n    },\n    {\n      \"column\": \"url\",\n      \"properties\": {\n        \"dtype\": \"string\",\n        \"num_unique_values\": 10,\n        \"samples\": [],\n        \"semantic_type\": \"\",\n        \"description\": \"\"\n      }\n    },\n    {\n      \"column\": \"module\",\n      \"properties\": {\n        \"dtype\": \"number\",\n        \"std\": null,\n        \"min\": null,\n        \"max\": null,\n        \"num_unique_values\": 0,\n        \"samples\": [],\n        \"semantic_type\": \"\",\n        \"description\": \"\"\n      }\n    }\n  ]\n}"
            }
          },
          "metadata": {},
          "execution_count": 35
        }
      ]
    },
    {
      "cell_type": "code",
      "source": [
        "path = '/content/drive/MyDrive/Colab Notebooks/module_full.xlsx'\n",
        "for index,row in df_raw_liv.iterrows():\n",
        "    cleaned_uni_name = clean_string(row['uni'])\n",
        "    cleaned_url = row['url'].strip()\n",
        "    print(cleaned_url)\n",
        "    write_data(cleaned_uni_name.strip(),cleaned_url,path)"
      ],
      "metadata": {
        "colab": {
          "base_uri": "https://localhost:8080/"
        },
        "id": "fvqYp6wQXx6R",
        "outputId": "32458ecc-d2de-4d10-e688-acdc0210df29"
      },
      "execution_count": null,
      "outputs": [
        {
          "output_type": "stream",
          "name": "stdout",
          "text": [
            "https://www.birmingham.ac.uk/postgraduate/courses/taught/business/business-analytics\n",
            "MSc Business Analytics\n"
          ]
        },
        {
          "output_type": "stream",
          "name": "stderr",
          "text": [
            "<ipython-input-33-0e07c9ed84ac>:15: FutureWarning: The frame.append method is deprecated and will be removed from pandas in a future version. Use pandas.concat instead.\n",
            "  df = df.append(new_row, ignore_index=True)\n"
          ]
        },
        {
          "output_type": "stream",
          "name": "stdout",
          "text": [
            "https://www.birmingham.ac.uk/postgraduate/courses/taught/computer-science/data-science\n",
            "Data Science Masters/MSc\n"
          ]
        },
        {
          "output_type": "stream",
          "name": "stderr",
          "text": [
            "<ipython-input-33-0e07c9ed84ac>:15: FutureWarning: The frame.append method is deprecated and will be removed from pandas in a future version. Use pandas.concat instead.\n",
            "  df = df.append(new_row, ignore_index=True)\n"
          ]
        },
        {
          "output_type": "stream",
          "name": "stdout",
          "text": [
            "https://www.birmingham.ac.uk/undergraduate/courses/computer-science/computer-science\n",
            "Computer Science BSc\n"
          ]
        },
        {
          "output_type": "stream",
          "name": "stderr",
          "text": [
            "<ipython-input-33-0e07c9ed84ac>:15: FutureWarning: The frame.append method is deprecated and will be removed from pandas in a future version. Use pandas.concat instead.\n",
            "  df = df.append(new_row, ignore_index=True)\n"
          ]
        },
        {
          "output_type": "stream",
          "name": "stdout",
          "text": [
            "https://www.birmingham.ac.uk/postgraduate/courses/taught/computer-science/computer-science\n",
            "Computer Science Masters/MSc\n"
          ]
        },
        {
          "output_type": "stream",
          "name": "stderr",
          "text": [
            "<ipython-input-33-0e07c9ed84ac>:15: FutureWarning: The frame.append method is deprecated and will be removed from pandas in a future version. Use pandas.concat instead.\n",
            "  df = df.append(new_row, ignore_index=True)\n"
          ]
        },
        {
          "output_type": "stream",
          "name": "stdout",
          "text": [
            "https://www.birmingham.ac.uk/postgraduate/courses/taught/computer-science/advanced-computer-science\n",
            "Advanced Computer Science Masters/MSc\n"
          ]
        },
        {
          "output_type": "stream",
          "name": "stderr",
          "text": [
            "<ipython-input-33-0e07c9ed84ac>:15: FutureWarning: The frame.append method is deprecated and will be removed from pandas in a future version. Use pandas.concat instead.\n",
            "  df = df.append(new_row, ignore_index=True)\n"
          ]
        },
        {
          "output_type": "stream",
          "name": "stdout",
          "text": [
            "https://www.birmingham.ac.uk/undergraduate/courses/computer-science/computer-science-software-engineering\n",
            "Computer Science/Software Engineering MEng\n"
          ]
        },
        {
          "output_type": "stream",
          "name": "stderr",
          "text": [
            "<ipython-input-33-0e07c9ed84ac>:15: FutureWarning: The frame.append method is deprecated and will be removed from pandas in a future version. Use pandas.concat instead.\n",
            "  df = df.append(new_row, ignore_index=True)\n"
          ]
        },
        {
          "output_type": "stream",
          "name": "stdout",
          "text": [
            "https://www.birmingham.ac.uk/undergraduate/courses/computer-science/artificial-intelligence-computer-science\n",
            "Artificial Intelligence and Computer Science BSc\n"
          ]
        },
        {
          "output_type": "stream",
          "name": "stderr",
          "text": [
            "<ipython-input-33-0e07c9ed84ac>:15: FutureWarning: The frame.append method is deprecated and will be removed from pandas in a future version. Use pandas.concat instead.\n",
            "  df = df.append(new_row, ignore_index=True)\n"
          ]
        },
        {
          "output_type": "stream",
          "name": "stdout",
          "text": [
            "https://www.birmingham.ac.uk/postgraduate/courses/taught/computer-science/cyber-security\n",
            "Cyber Security Masters/MSc\n"
          ]
        },
        {
          "output_type": "stream",
          "name": "stderr",
          "text": [
            "<ipython-input-33-0e07c9ed84ac>:15: FutureWarning: The frame.append method is deprecated and will be removed from pandas in a future version. Use pandas.concat instead.\n",
            "  df = df.append(new_row, ignore_index=True)\n"
          ]
        },
        {
          "output_type": "stream",
          "name": "stdout",
          "text": [
            "https://www.birmingham.ac.uk/postgraduate/courses/taught/mechanical-engineering/robotics\n",
            "Robotics Masters/MSc\n"
          ]
        },
        {
          "output_type": "stream",
          "name": "stderr",
          "text": [
            "<ipython-input-33-0e07c9ed84ac>:15: FutureWarning: The frame.append method is deprecated and will be removed from pandas in a future version. Use pandas.concat instead.\n",
            "  df = df.append(new_row, ignore_index=True)\n"
          ]
        },
        {
          "output_type": "stream",
          "name": "stdout",
          "text": [
            "https://www.birmingham.ac.uk/postgraduate/courses/taught/computer-science/artificial-intelligence\n",
            "Artificial Intelligence and Machine Learning Masters/MSc\n"
          ]
        },
        {
          "output_type": "stream",
          "name": "stderr",
          "text": [
            "<ipython-input-33-0e07c9ed84ac>:15: FutureWarning: The frame.append method is deprecated and will be removed from pandas in a future version. Use pandas.concat instead.\n",
            "  df = df.append(new_row, ignore_index=True)\n"
          ]
        }
      ]
    },
    {
      "cell_type": "code",
      "source": [
        "york('https://www.ucl.ac.uk/prospective-students/undergraduate/degrees/data-science-bsc-2024')"
      ],
      "metadata": {
        "colab": {
          "base_uri": "https://localhost:8080/"
        },
        "id": "zOiIUmgKSaon",
        "outputId": "b2e8a696-0c18-4b07-8d70-78cbfd312506"
      },
      "execution_count": null,
      "outputs": [
        {
          "output_type": "stream",
          "name": "stdout",
          "text": [
            "Data Science BSc\n"
          ]
        },
        {
          "output_type": "execute_result",
          "data": {
            "text/plain": [
              "('Data Science BSc', [])"
            ]
          },
          "metadata": {},
          "execution_count": 37
        }
      ]
    },
    {
      "cell_type": "code",
      "source": [],
      "metadata": {
        "id": "UzVXhiLeZ_rV"
      },
      "execution_count": null,
      "outputs": []
    }
  ]
}