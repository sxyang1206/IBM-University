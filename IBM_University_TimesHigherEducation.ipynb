{
 "cells": [
  {
   "cell_type": "code",
   "execution_count": 13,
   "id": "6bb17966-f435-44ac-b6f6-d01a4f38ae0b",
   "metadata": {},
   "outputs": [],
   "source": [
    "import selenium\n",
    "from selenium import webdriver\n",
    "from selenium.webdriver.chrome.service import Service\n",
    "import pandas as pd\n",
    "from selenium.webdriver.common.keys import Keys\n",
    "import time\n",
    "from selenium.webdriver.common.by import By\n",
    "from selenium.webdriver.support.ui import WebDriverWait\n",
    "from selenium.webdriver.support import expected_conditions as EC\n",
    "\n",
    "\n",
    "#path= \"/Users/yashveer/anaconda3/bin/chromedriver\"\n",
    "\n",
    "driver= webdriver.Chrome()\n",
    "\n",
    "driver.get(\"https://www.timeshighereducation.com/world-university-rankings/2023/world-ranking#!/length/-1/locations/GBR/sort_by/rank/sort_order/asc/cols/stats\")\n"
   ]
  },
  {
   "cell_type": "code",
   "execution_count": 34,
   "id": "f1df9cbc-9e82-4d37-930a-268c09acd1d1",
   "metadata": {},
   "outputs": [],
   "source": [
    "table_id = \"datatable-1\"\n",
    "WebDriverWait(driver, 10).until(EC.presence_of_element_located((By.ID, table_id)))\n",
    "table = driver.find_element(By.ID, table_id)"
   ]
  },
  {
   "cell_type": "code",
   "execution_count": 35,
   "id": "4c047cdf-0eba-4596-bc7e-be1228d28347",
   "metadata": {},
   "outputs": [],
   "source": [
    "# Finding the rows in the body\n",
    "rows = table.find_element(By.TAG_NAME, \"tbody\").find_elements(By.TAG_NAME, \"tr\")"
   ]
  },
  {
   "cell_type": "code",
   "execution_count": 36,
   "id": "02c0c622-0a61-4c79-ac7a-724914f34834",
   "metadata": {},
   "outputs": [
    {
     "name": "stdout",
     "output_type": "stream",
     "text": [
      "  Rank                                Name/Country/Region No. of FTE Students  \\\n",
      "0    1               University of Oxford\\nUnited Kingdom              20,410   \n",
      "1    2            University of Cambridge\\nUnited Kingdom              18,390   \n",
      "2    8            Imperial College London\\nUnited Kingdom              15,855   \n",
      "3   16                                UCL\\nUnited Kingdom              30,305   \n",
      "4  =25  London School of Economics and Political Scien...              10,065   \n",
      "\n",
      "  No. of students per staff International Students Female:Male Ratio  \n",
      "0                      11.2                    38%           46 : 54  \n",
      "1                      10.9                    35%           45 : 55  \n",
      "2                      11.4                    55%           37 : 63  \n",
      "3                      10.5                    49%           56 : 44  \n",
      "4                      12.1                    71%           52 : 48  \n"
     ]
    }
   ],
   "source": [
    "all_rows_data = []\n",
    "# Iterating each row using for loop\n",
    "for row in rows:\n",
    "    cells = row.find_elements(By.TAG_NAME, \"td\") \n",
    "    row_data = [cell.text for cell in cells]\n",
    "    all_rows_data.append(row_data)\n",
    "headers = table.find_element(By.TAG_NAME, \"thead\").find_elements(By.TAG_NAME, \"th\")\n",
    "\n",
    "column_names = ['Rank', ' Name/Country/Region', 'No. of FTE Students', 'No. of students per staff',\n",
    "                'International Students', 'Female:Male Ratio']\n",
    "df = pd.DataFrame(all_rows_data, columns=column_names)\n",
    "\n",
    "print(df.head())"
   ]
  },
  {
   "cell_type": "code",
   "execution_count": 37,
   "id": "955f4710-ea2e-4987-afd2-8bc642130af2",
   "metadata": {},
   "outputs": [
    {
     "data": {
      "text/plain": [
       "(93, 6)"
      ]
     },
     "execution_count": 37,
     "metadata": {},
     "output_type": "execute_result"
    }
   ],
   "source": [
    "df.shape"
   ]
  },
  {
   "cell_type": "code",
   "execution_count": 38,
   "id": "1116e504-4dc5-4cf7-8864-c319015e37fc",
   "metadata": {},
   "outputs": [],
   "source": [
    "df.to_csv('Documents/Consultancy Project TB2/IBM Scraped data/Overall_UK_Anysubject_Worlduniversityranking2018.csv', index=False)\n"
   ]
  },
  {
   "cell_type": "code",
   "execution_count": 85,
   "id": "6e5ed6b8-0e5f-43f3-882e-805be4004c39",
   "metadata": {},
   "outputs": [],
   "source": [
    "\n",
    "rows = table.find_element(By.TAG_NAME, \"tbody\").find_elements(By.TAG_NAME, \"tr\")"
   ]
  },
  {
   "cell_type": "code",
   "execution_count": 87,
   "id": "f5a60923-3f92-4286-afbf-da6e534b3209",
   "metadata": {},
   "outputs": [],
   "source": [
    "# Assuming df is your DataFrame\n",
    "df.to_csv('Documents/Consultancy Project TB2/OVERALL_UK_ANYSUBJECT.csv', index=False)\n"
   ]
  },
  {
   "cell_type": "code",
   "execution_count": null,
   "id": "4ce0f586-5fdc-4e95-a72b-01046ab059ce",
   "metadata": {},
   "outputs": [],
   "source": []
  }
 ],
 "metadata": {
  "kernelspec": {
   "display_name": "Python 3 (ipykernel)",
   "language": "python",
   "name": "python3"
  },
  "language_info": {
   "codemirror_mode": {
    "name": "ipython",
    "version": 3
   },
   "file_extension": ".py",
   "mimetype": "text/x-python",
   "name": "python",
   "nbconvert_exporter": "python",
   "pygments_lexer": "ipython3",
   "version": "3.11.5"
  }
 },
 "nbformat": 4,
 "nbformat_minor": 5
}
